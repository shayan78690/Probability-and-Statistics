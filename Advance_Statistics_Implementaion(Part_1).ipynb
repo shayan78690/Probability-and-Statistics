{
  "nbformat": 4,
  "nbformat_minor": 0,
  "metadata": {
    "colab": {
      "provenance": []
    },
    "kernelspec": {
      "name": "python3",
      "display_name": "Python 3"
    },
    "language_info": {
      "name": "python"
    }
  },
  "cells": [
    {
      "cell_type": "code",
      "execution_count": 29,
      "metadata": {
        "id": "Mn-c3TfBhvs7"
      },
      "outputs": [],
      "source": [
        "import numpy as np\n",
        "import pandas as pd\n",
        "import matplotlib.pyplot as plt\n",
        "import seaborn as sns\n",
        "\n",
        "import warnings\n",
        "warnings.filterwarnings('ignore')"
      ]
    },
    {
      "cell_type": "code",
      "source": [
        "# Let's creat some population\n",
        "population = np.random.randint(10, 20, 50)"
      ],
      "metadata": {
        "id": "PPFEq1DKkINm"
      },
      "execution_count": 30,
      "outputs": []
    },
    {
      "cell_type": "code",
      "source": [
        "population"
      ],
      "metadata": {
        "colab": {
          "base_uri": "https://localhost:8080/"
        },
        "id": "ubRVa2UlkISN",
        "outputId": "65caac7f-a45b-4af0-8b4c-d873ce34887c"
      },
      "execution_count": 11,
      "outputs": [
        {
          "output_type": "execute_result",
          "data": {
            "text/plain": [
              "array([16, 18, 18, 18, 19, 13, 19, 15, 12, 16, 13, 12, 11, 17, 11, 14, 14,\n",
              "       17, 19, 16, 19, 17, 13, 13, 17, 15, 14, 13, 14, 11, 18, 14, 15, 13,\n",
              "       18, 11, 17, 18, 10, 16, 16, 15, 11, 13, 14, 13, 18, 11, 10, 18])"
            ]
          },
          "metadata": {},
          "execution_count": 11
        }
      ]
    },
    {
      "cell_type": "code",
      "source": [
        "len(population)"
      ],
      "metadata": {
        "colab": {
          "base_uri": "https://localhost:8080/"
        },
        "id": "aImExx8qkIWl",
        "outputId": "b42102ba-14b4-4665-8e95-931fdbe413a9"
      },
      "execution_count": 31,
      "outputs": [
        {
          "output_type": "execute_result",
          "data": {
            "text/plain": [
              "50"
            ]
          },
          "metadata": {},
          "execution_count": 31
        }
      ]
    },
    {
      "cell_type": "code",
      "source": [
        "import statistics\n",
        "print(\"The mean value of the population is : \", np.mean(population))\n",
        "print(\"The median value of the population is : \", np.median(population))\n",
        "print(\"The mode value of the population is : \", statistics.mode(population))"
      ],
      "metadata": {
        "colab": {
          "base_uri": "https://localhost:8080/"
        },
        "id": "9yyX06AekIbu",
        "outputId": "8e696f50-3514-4056-f130-92ace97833f7"
      },
      "execution_count": 32,
      "outputs": [
        {
          "output_type": "stream",
          "name": "stdout",
          "text": [
            "The mean value of the population is :  14.86\n",
            "The median value of the population is :  15.0\n",
            "The mode value of the population is :  18\n"
          ]
        }
      ]
    },
    {
      "cell_type": "code",
      "source": [
        "sample1 = np.random.choice(population, 20)\n",
        "sample2 = np.random.choice(population, 20)\n",
        "sample3 = np.random.choice(population, 20)\n",
        "sample4 = np.random.choice(population, 20)"
      ],
      "metadata": {
        "id": "cDICjzNbkIgV"
      },
      "execution_count": 33,
      "outputs": []
    },
    {
      "cell_type": "code",
      "source": [
        "# mean of samples\n",
        "all_samples = [sample1, sample2, sample3, sample4]\n",
        "mean_of_samples = []\n",
        "\n",
        "for sample in all_samples:\n",
        "  mean_of_samples.append(np.mean(sample))"
      ],
      "metadata": {
        "id": "Szn_vg9WkIkt"
      },
      "execution_count": 34,
      "outputs": []
    },
    {
      "cell_type": "code",
      "source": [
        "mean_of_samples"
      ],
      "metadata": {
        "colab": {
          "base_uri": "https://localhost:8080/"
        },
        "id": "Oe1hKn-ZlK5I",
        "outputId": "03d80c3f-5045-4c38-dfe5-864409d3c130"
      },
      "execution_count": 35,
      "outputs": [
        {
          "output_type": "execute_result",
          "data": {
            "text/plain": [
              "[13.6, 14.3, 14.7, 14.85]"
            ]
          },
          "metadata": {},
          "execution_count": 35
        }
      ]
    },
    {
      "cell_type": "code",
      "source": [
        "# central limit theorem >> The sample mean distribution will be approxiamated to the normal distribution given sample size >= 30 and\n",
        "# number of samples are sufficiently large enough"
      ],
      "metadata": {
        "id": "J950HxXXkIo8"
      },
      "execution_count": 36,
      "outputs": []
    },
    {
      "cell_type": "code",
      "source": [
        "population = np.random.binomial(10, 0.5, 100000) # this is the number of trial and experiment, it represents the number of time an event is occured\n",
        "# 0.5 is the probability of success\n",
        "# 100000 >> It will generate 100000 of random numbers representing the outcome of independent trials"
      ],
      "metadata": {
        "id": "N7xiyC0akItO"
      },
      "execution_count": 38,
      "outputs": []
    },
    {
      "cell_type": "code",
      "source": [
        "len(population)"
      ],
      "metadata": {
        "colab": {
          "base_uri": "https://localhost:8080/"
        },
        "id": "fPDoRAOSkIxu",
        "outputId": "41ed68b1-19ec-4c66-ba00-a2ff82bab421"
      },
      "execution_count": 39,
      "outputs": [
        {
          "output_type": "execute_result",
          "data": {
            "text/plain": [
              "100000"
            ]
          },
          "metadata": {},
          "execution_count": 39
        }
      ]
    },
    {
      "cell_type": "code",
      "source": [
        "sns.distplot(population)"
      ],
      "metadata": {
        "colab": {
          "base_uri": "https://localhost:8080/",
          "height": 447
        },
        "id": "mzOFTlHxkI18",
        "outputId": "f159daec-65e3-4504-ebe5-ce9e07709774"
      },
      "execution_count": 41,
      "outputs": [
        {
          "output_type": "execute_result",
          "data": {
            "text/plain": [
              "<Axes: ylabel='Density'>"
            ]
          },
          "metadata": {},
          "execution_count": 41
        },
        {
          "output_type": "display_data",
          "data": {
            "text/plain": [
              "<Figure size 640x480 with 1 Axes>"
            ],
            "image/png": "[encoded data removed]"
          },
          "metadata": {}
        }
      ]
    },
    {
      "cell_type": "code",
      "source": [
        "sample_size = (int)(len(population) * 0.030)"
      ],
      "metadata": {
        "id": "ZA_PDNcCkI51"
      },
      "execution_count": 42,
      "outputs": []
    },
    {
      "cell_type": "code",
      "source": [
        "sample_size"
      ],
      "metadata": {
        "colab": {
          "base_uri": "https://localhost:8080/"
        },
        "id": "kJraMsWikI-N",
        "outputId": "940bec53-2410-4f91-bbbd-43a1cb144cb0"
      },
      "execution_count": 43,
      "outputs": [
        {
          "output_type": "execute_result",
          "data": {
            "text/plain": [
              "3000"
            ]
          },
          "metadata": {},
          "execution_count": 43
        }
      ]
    },
    {
      "cell_type": "code",
      "source": [
        "mean_of_samples = []\n",
        "for i in range(1000):\n",
        "  sample = np.random.choice(population, size = sample_size)\n",
        "  mean_of_samples.append(np.mean(sample))"
      ],
      "metadata": {
        "id": "gkCdsHGikJCV"
      },
      "execution_count": 44,
      "outputs": []
    },
    {
      "cell_type": "code",
      "source": [
        "mean_of_samples"
      ],
      "metadata": {
        "colab": {
          "base_uri": "https://localhost:8080/"
        },
        "id": "dKBdiFFekJGV",
        "outputId": "7f9cbeed-96e9-4652-dcb5-3a5c7d56687f"
      },
      "execution_count": 45,
      "outputs": [
        {
          "output_type": "execute_result",
          "data": {
            "text/plain": [
              "[4.973,\n",
              " 5.05,\n",
              " 5.009333333333333,\n",
              " 5.019666666666667,\n",
              " 4.97,\n",
              " 5.038333333333333,\n",
              " 5.012,\n",
              " 5.006333333333333,\n",
              " 4.975,\n",
              " 4.966,\n",
              " 4.972,\n",
              " 5.024333333333334,\n",
              " 5.020666666666667,\n",
              " 5.030333333333333,\n",
              " 5.019333333333333,\n",
              " 4.93,\n",
              " 4.983,\n",
              " 5.041,\n",
              " 4.906333333333333,\n",
              " 5.037333333333334,\n",
              " 4.968333333333334,\n",
              " 4.979,\n",
              " 4.979333333333333,\n",
              " 4.963,\n",
              " 5.021,\n",
              " 5.020666666666667,\n",
              " 4.969333333333333,\n",
              " 5.033,\n",
              " 5.044,\n",
              " 5.033,\n",
              " 4.992,\n",
              " 4.970666666666666,\n",
              " 5.020333333333333,\n",
              " 5.062333333333333,\n",
              " 5.025,\n",
              " 4.951666666666667,\n",
              " 5.006,\n",
              " 4.998,\n",
              " 5.012333333333333,\n",
              " 5.039333333333333,\n",
              " 4.9816666666666665,\n",
              " 4.95,\n",
              " 5.049666666666667,\n",
              " 5.024,\n",
              " 5.02,\n",
              " 5.007666666666666,\n",
              " 4.991333333333333,\n",
              " 4.991,\n",
              " 4.954666666666666,\n",
              " 4.990666666666667,\n",
              " 5.03,\n",
              " 4.978,\n",
              " 5.032666666666667,\n",
              " 4.98,\n",
              " 5.032333333333334,\n",
              " 4.935333333333333,\n",
              " 4.996666666666667,\n",
              " 5.010666666666666,\n",
              " 5.015666666666666,\n",
              " 4.999333333333333,\n",
              " 5.041666666666667,\n",
              " 5.023666666666666,\n",
              " 5.0,\n",
              " 4.985,\n",
              " 5.007666666666666,\n",
              " 4.984333333333334,\n",
              " 4.982,\n",
              " 4.9816666666666665,\n",
              " 4.993,\n",
              " 5.016666666666667,\n",
              " 5.006666666666667,\n",
              " 5.0536666666666665,\n",
              " 5.008333333333334,\n",
              " 5.048,\n",
              " 4.999333333333333,\n",
              " 5.003666666666667,\n",
              " 5.007333333333333,\n",
              " 4.996,\n",
              " 4.994666666666666,\n",
              " 4.959333333333333,\n",
              " 5.020333333333333,\n",
              " 5.036333333333333,\n",
              " 5.022,\n",
              " 4.969333333333333,\n",
              " 4.993333333333333,\n",
              " 5.035333333333333,\n",
              " 5.001666666666667,\n",
              " 4.994666666666666,\n",
              " 5.003,\n",
              " 4.973333333333334,\n",
              " 4.9896666666666665,\n",
              " 5.015,\n",
              " 4.986666666666666,\n",
              " 5.034,\n",
              " 4.987333333333333,\n",
              " 4.951,\n",
              " 5.030666666666667,\n",
              " 4.992,\n",
              " 5.035,\n",
              " 5.023666666666666,\n",
              " 5.048,\n",
              " 5.004,\n",
              " 4.991,\n",
              " 5.037,\n",
              " 5.0376666666666665,\n",
              " 5.011666666666667,\n",
              " 4.993333333333333,\n",
              " 4.995666666666667,\n",
              " 5.003666666666667,\n",
              " 5.084,\n",
              " 4.993666666666667,\n",
              " 4.973,\n",
              " 5.033666666666667,\n",
              " 4.985333333333333,\n",
              " 5.022333333333333,\n",
              " 5.004666666666667,\n",
              " 4.990666666666667,\n",
              " 5.004333333333333,\n",
              " 5.02,\n",
              " 5.025666666666667,\n",
              " 5.067666666666667,\n",
              " 5.019666666666667,\n",
              " 4.952,\n",
              " 5.034,\n",
              " 4.967333333333333,\n",
              " 5.035,\n",
              " 5.006333333333333,\n",
              " 5.02,\n",
              " 5.036,\n",
              " 4.998666666666667,\n",
              " 4.993666666666667,\n",
              " 4.989,\n",
              " 5.025666666666667,\n",
              " 4.969,\n",
              " 5.009666666666667,\n",
              " 5.015333333333333,\n",
              " 5.040666666666667,\n",
              " 4.997,\n",
              " 5.016333333333334,\n",
              " 4.982333333333333,\n",
              " 5.024666666666667,\n",
              " 4.995,\n",
              " 4.984333333333334,\n",
              " 4.993666666666667,\n",
              " 5.0103333333333335,\n",
              " 5.052,\n",
              " 5.030333333333333,\n",
              " 4.978,\n",
              " 5.022666666666667,\n",
              " 4.94,\n",
              " 5.031333333333333,\n",
              " 5.009333333333333,\n",
              " 5.061,\n",
              " 5.011,\n",
              " 4.990333333333333,\n",
              " 4.991333333333333,\n",
              " 5.043666666666667,\n",
              " 5.029333333333334,\n",
              " 4.999666666666666,\n",
              " 5.0713333333333335,\n",
              " 4.993333333333333,\n",
              " 4.983666666666666,\n",
              " 5.008,\n",
              " 5.07,\n",
              " 4.999333333333333,\n",
              " 4.9976666666666665,\n",
              " 5.0056666666666665,\n",
              " 4.989,\n",
              " 4.987,\n",
              " 5.014666666666667,\n",
              " 4.977666666666667,\n",
              " 4.959,\n",
              " 5.009333333333333,\n",
              " 4.998666666666667,\n",
              " 5.015333333333333,\n",
              " 5.014,\n",
              " 4.922,\n",
              " 4.9783333333333335,\n",
              " 4.996666666666667,\n",
              " 5.017666666666667,\n",
              " 5.007,\n",
              " 5.037333333333334,\n",
              " 5.050333333333334,\n",
              " 4.98,\n",
              " 4.991333333333333,\n",
              " 4.975666666666666,\n",
              " 5.003666666666667,\n",
              " 4.981,\n",
              " 5.016,\n",
              " 4.969,\n",
              " 5.004,\n",
              " 5.034666666666666,\n",
              " 5.005333333333334,\n",
              " 5.051333333333333,\n",
              " 5.042,\n",
              " 4.998333333333333,\n",
              " 4.972666666666667,\n",
              " 5.028,\n",
              " 4.966333333333333,\n",
              " 5.032,\n",
              " 5.024666666666667,\n",
              " 4.934,\n",
              " 5.025,\n",
              " 5.027333333333333,\n",
              " 4.996666666666667,\n",
              " 5.020333333333333,\n",
              " 4.989,\n",
              " 4.977333333333333,\n",
              " 5.043333333333333,\n",
              " 5.006666666666667,\n",
              " 5.0536666666666665,\n",
              " 5.027333333333333,\n",
              " 4.998333333333333,\n",
              " 5.02,\n",
              " 4.984666666666667,\n",
              " 5.040333333333334,\n",
              " 4.982,\n",
              " 5.038666666666667,\n",
              " 4.992,\n",
              " 5.0456666666666665,\n",
              " 5.0183333333333335,\n",
              " 5.057,\n",
              " 4.973,\n",
              " 5.0263333333333335,\n",
              " 5.01,\n",
              " 5.004,\n",
              " 4.967666666666666,\n",
              " 4.996666666666667,\n",
              " 5.015,\n",
              " 4.998,\n",
              " 5.009666666666667,\n",
              " 5.006,\n",
              " 5.024333333333334,\n",
              " 5.067333333333333,\n",
              " 4.990333333333333,\n",
              " 5.007666666666666,\n",
              " 5.002666666666666,\n",
              " 5.003666666666667,\n",
              " 5.012333333333333,\n",
              " 4.983,\n",
              " 4.980666666666667,\n",
              " 4.939,\n",
              " 5.000666666666667,\n",
              " 4.993,\n",
              " 4.969333333333333,\n",
              " 5.005333333333334,\n",
              " 5.029333333333334,\n",
              " 5.014333333333333,\n",
              " 5.032,\n",
              " 5.020333333333333,\n",
              " 4.993333333333333,\n",
              " 4.9863333333333335,\n",
              " 4.979333333333333,\n",
              " 4.995,\n",
              " 4.984666666666667,\n",
              " 4.974333333333333,\n",
              " 5.02,\n",
              " 5.054333333333333,\n",
              " 5.001666666666667,\n",
              " 4.9816666666666665,\n",
              " 4.992666666666667,\n",
              " 5.057,\n",
              " 5.025666666666667,\n",
              " 4.984666666666667,\n",
              " 4.951333333333333,\n",
              " 5.061333333333334,\n",
              " 5.029,\n",
              " 4.923,\n",
              " 5.039,\n",
              " 4.974,\n",
              " 5.041666666666667,\n",
              " 5.018,\n",
              " 5.008,\n",
              " 4.964666666666667,\n",
              " 4.975666666666666,\n",
              " 5.0103333333333335,\n",
              " 5.001333333333333,\n",
              " 5.030333333333333,\n",
              " 5.04,\n",
              " 4.991666666666666,\n",
              " 5.029,\n",
              " 5.030666666666667,\n",
              " 5.005,\n",
              " 5.028333333333333,\n",
              " 4.9623333333333335,\n",
              " 4.980666666666667,\n",
              " 4.941,\n",
              " 5.052333333333333,\n",
              " 4.967333333333333,\n",
              " 4.995666666666667,\n",
              " 5.04,\n",
              " 5.004333333333333,\n",
              " 4.991333333333333,\n",
              " 5.057666666666667,\n",
              " 4.932333333333333,\n",
              " 5.004666666666667,\n",
              " 5.008666666666667,\n",
              " 4.945,\n",
              " 4.993666666666667,\n",
              " 4.953666666666667,\n",
              " 5.014,\n",
              " 4.989333333333334,\n",
              " 5.035333333333333,\n",
              " 5.03,\n",
              " 4.994,\n",
              " 5.001333333333333,\n",
              " 5.007,\n",
              " 5.013,\n",
              " 5.004666666666667,\n",
              " 5.022333333333333,\n",
              " 4.982333333333333,\n",
              " 5.005333333333334,\n",
              " 5.0296666666666665,\n",
              " 4.960333333333334,\n",
              " 5.007333333333333,\n",
              " 4.985333333333333,\n",
              " 4.956333333333333,\n",
              " 5.075,\n",
              " 4.985333333333333,\n",
              " 5.020666666666667,\n",
              " 5.046,\n",
              " 5.0023333333333335,\n",
              " 5.0263333333333335,\n",
              " 5.038,\n",
              " 4.971,\n",
              " 4.9623333333333335,\n",
              " 5.012666666666667,\n",
              " 5.003666666666667,\n",
              " 4.968,\n",
              " 5.0473333333333334,\n",
              " 5.015333333333333,\n",
              " 5.035666666666667,\n",
              " 4.993333333333333,\n",
              " 4.992,\n",
              " 5.008,\n",
              " 5.028,\n",
              " 5.012,\n",
              " 5.001333333333333,\n",
              " 5.018,\n",
              " 4.987333333333333,\n",
              " 4.984333333333334,\n",
              " 4.964666666666667,\n",
              " 5.051666666666667,\n",
              " 5.016333333333334,\n",
              " 4.988666666666667,\n",
              " 5.005,\n",
              " 5.031333333333333,\n",
              " 5.037,\n",
              " 4.976666666666667,\n",
              " 4.969333333333333,\n",
              " 5.018,\n",
              " 5.004666666666667,\n",
              " 4.996333333333333,\n",
              " 5.055,\n",
              " 4.992,\n",
              " 5.022666666666667,\n",
              " 5.0376666666666665,\n",
              " 4.9863333333333335,\n",
              " 5.0296666666666665,\n",
              " 5.014,\n",
              " 5.006666666666667,\n",
              " 5.044333333333333,\n",
              " 5.015,\n",
              " 5.002,\n",
              " 4.985,\n",
              " 5.017,\n",
              " 5.018,\n",
              " 5.019,\n",
              " 4.996666666666667,\n",
              " 5.024666666666667,\n",
              " 4.983666666666666,\n",
              " 4.980333333333333,\n",
              " 4.966333333333333,\n",
              " 5.016666666666667,\n",
              " 5.020333333333333,\n",
              " 5.007333333333333,\n",
              " 5.032333333333334,\n",
              " 4.975,\n",
              " 5.043666666666667,\n",
              " 4.999333333333333,\n",
              " 5.005,\n",
              " 4.962,\n",
              " 5.051333333333333,\n",
              " 5.0263333333333335,\n",
              " 4.9896666666666665,\n",
              " 5.001333333333333,\n",
              " 5.013333333333334,\n",
              " 4.9703333333333335,\n",
              " 4.999333333333333,\n",
              " 4.965333333333334,\n",
              " 4.914666666666666,\n",
              " 4.926333333333333,\n",
              " 5.049333333333333,\n",
              " 4.964666666666667,\n",
              " 4.972666666666667,\n",
              " 4.990333333333333,\n",
              " 5.011666666666667,\n",
              " 4.970666666666666,\n",
              " 4.981,\n",
              " 5.019333333333333,\n",
              " 4.943333333333333,\n",
              " 4.983333333333333,\n",
              " 5.012333333333333,\n",
              " 4.967,\n",
              " 4.977333333333333,\n",
              " 4.992333333333334,\n",
              " 5.042333333333334,\n",
              " 5.018,\n",
              " 4.978,\n",
              " 5.0536666666666665,\n",
              " 5.026666666666666,\n",
              " 4.996,\n",
              " 4.983,\n",
              " 5.031,\n",
              " 4.997,\n",
              " 4.968333333333334,\n",
              " 5.052,\n",
              " 5.006,\n",
              " 5.0263333333333335,\n",
              " 5.0023333333333335,\n",
              " 5.058333333333334,\n",
              " 5.070333333333333,\n",
              " 5.034,\n",
              " 5.04,\n",
              " 4.996666666666667,\n",
              " 4.968333333333334,\n",
              " 5.003333333333333,\n",
              " 4.960666666666667,\n",
              " 5.004666666666667,\n",
              " 5.000666666666667,\n",
              " 5.013333333333334,\n",
              " 5.033,\n",
              " 5.044666666666667,\n",
              " 5.042333333333334,\n",
              " 4.994,\n",
              " 4.999333333333333,\n",
              " 4.992,\n",
              " 4.989333333333334,\n",
              " 5.009,\n",
              " 5.026,\n",
              " 5.043,\n",
              " 5.012666666666667,\n",
              " 4.9976666666666665,\n",
              " 5.014666666666667,\n",
              " 4.991666666666666,\n",
              " 4.990666666666667,\n",
              " 5.001333333333333,\n",
              " 4.9943333333333335,\n",
              " 5.0103333333333335,\n",
              " 4.982333333333333,\n",
              " 4.986,\n",
              " 5.053,\n",
              " 4.976333333333334,\n",
              " 4.9896666666666665,\n",
              " 4.9656666666666665,\n",
              " 4.992666666666667,\n",
              " 4.982666666666667,\n",
              " 5.0553333333333335,\n",
              " 4.941333333333334,\n",
              " 4.9543333333333335,\n",
              " 5.005,\n",
              " 5.038,\n",
              " 4.975333333333333,\n",
              " 5.052,\n",
              " 4.9463333333333335,\n",
              " 5.042,\n",
              " 5.0,\n",
              " 5.021,\n",
              " 4.99,\n",
              " 5.007666666666666,\n",
              " 5.004333333333333,\n",
              " 5.022666666666667,\n",
              " 4.99,\n",
              " 5.04,\n",
              " 5.019333333333333,\n",
              " 5.006666666666667,\n",
              " 4.984,\n",
              " 4.948333333333333,\n",
              " 4.999666666666666,\n",
              " 5.027666666666667,\n",
              " 5.013333333333334,\n",
              " 4.972333333333333,\n",
              " 4.957,\n",
              " 5.004333333333333,\n",
              " 5.018666666666666,\n",
              " 5.023666666666666,\n",
              " 5.021,\n",
              " 4.983,\n",
              " 5.001,\n",
              " 4.957,\n",
              " 5.003333333333333,\n",
              " 4.9896666666666665,\n",
              " 4.975666666666666,\n",
              " 5.036,\n",
              " 4.991666666666666,\n",
              " 5.020666666666667,\n",
              " 5.059,\n",
              " 4.913666666666667,\n",
              " 4.963666666666667,\n",
              " 5.068333333333333,\n",
              " 5.062666666666667,\n",
              " 4.992,\n",
              " 5.023666666666666,\n",
              " 5.0,\n",
              " 5.027666666666667,\n",
              " 4.972,\n",
              " 5.039333333333333,\n",
              " 4.9816666666666665,\n",
              " 4.934,\n",
              " 4.9863333333333335,\n",
              " 5.008333333333334,\n",
              " 4.989,\n",
              " 4.983666666666666,\n",
              " 4.947333333333333,\n",
              " 4.987,\n",
              " 4.998333333333333,\n",
              " 5.025333333333333,\n",
              " 5.0296666666666665,\n",
              " 4.96,\n",
              " 4.982,\n",
              " 4.993666666666667,\n",
              " 4.952333333333334,\n",
              " 5.025666666666667,\n",
              " 4.998666666666667,\n",
              " 5.019,\n",
              " 5.020666666666667,\n",
              " 5.021333333333334,\n",
              " 4.968666666666667,\n",
              " 4.985,\n",
              " 4.939666666666667,\n",
              " 5.027666666666667,\n",
              " 5.017666666666667,\n",
              " 4.979666666666667,\n",
              " 4.964333333333333,\n",
              " 5.052333333333333,\n",
              " 5.057333333333333,\n",
              " 4.96,\n",
              " 5.0216666666666665,\n",
              " 5.040333333333334,\n",
              " 4.977333333333333,\n",
              " 5.024666666666667,\n",
              " 5.0136666666666665,\n",
              " 5.033666666666667,\n",
              " 4.961,\n",
              " 4.999,\n",
              " 5.008666666666667,\n",
              " 5.024666666666667,\n",
              " 5.024333333333334,\n",
              " 5.022,\n",
              " 5.0183333333333335,\n",
              " 5.004,\n",
              " 5.074666666666666,\n",
              " 4.999,\n",
              " 5.038333333333333,\n",
              " 5.000333333333334,\n",
              " 4.956,\n",
              " 4.992,\n",
              " 5.053333333333334,\n",
              " 5.019666666666667,\n",
              " 5.004,\n",
              " 5.01,\n",
              " 4.987666666666667,\n",
              " 4.958666666666667,\n",
              " 4.964666666666667,\n",
              " 4.980666666666667,\n",
              " 5.018,\n",
              " 4.9703333333333335,\n",
              " 5.0,\n",
              " 4.943,\n",
              " 4.9526666666666666,\n",
              " 4.98,\n",
              " 4.991,\n",
              " 4.975333333333333,\n",
              " 5.0376666666666665,\n",
              " 5.000666666666667,\n",
              " 5.033,\n",
              " 5.0023333333333335,\n",
              " 4.955666666666667,\n",
              " 5.007333333333333,\n",
              " 5.0056666666666665,\n",
              " 4.966333333333333,\n",
              " 4.915666666666667,\n",
              " 4.964666666666667,\n",
              " 4.9656666666666665,\n",
              " 5.015333333333333,\n",
              " 5.032666666666667,\n",
              " 5.001666666666667,\n",
              " 5.041,\n",
              " 5.064666666666667,\n",
              " 4.9783333333333335,\n",
              " 5.0103333333333335,\n",
              " 5.0793333333333335,\n",
              " 5.007,\n",
              " 5.0343333333333335,\n",
              " 5.002,\n",
              " 4.9206666666666665,\n",
              " 5.011333333333333,\n",
              " 4.989333333333334,\n",
              " 5.0103333333333335,\n",
              " 4.9783333333333335,\n",
              " 4.978,\n",
              " 5.003666666666667,\n",
              " 5.044333333333333,\n",
              " 5.000666666666667,\n",
              " 5.043666666666667,\n",
              " 4.963,\n",
              " 5.016666666666667,\n",
              " 4.945333333333333,\n",
              " 5.006666666666667,\n",
              " 5.004666666666667,\n",
              " 5.003666666666667,\n",
              " 5.010666666666666,\n",
              " 4.991333333333333,\n",
              " 5.001666666666667,\n",
              " 5.048,\n",
              " 5.019333333333333,\n",
              " 4.996333333333333,\n",
              " 5.039,\n",
              " 4.995,\n",
              " 5.004,\n",
              " 4.999333333333333,\n",
              " 5.046,\n",
              " 4.975666666666666,\n",
              " 5.03,\n",
              " 4.968666666666667,\n",
              " 5.043666666666667,\n",
              " 4.959,\n",
              " 5.0536666666666665,\n",
              " 4.974666666666667,\n",
              " 4.951333333333333,\n",
              " 5.014666666666667,\n",
              " 4.987666666666667,\n",
              " 5.012333333333333,\n",
              " 4.938666666666666,\n",
              " 4.986,\n",
              " 4.9783333333333335,\n",
              " 5.064666666666667,\n",
              " 4.999,\n",
              " 4.982,\n",
              " 5.033666666666667,\n",
              " 4.994,\n",
              " 5.002666666666666,\n",
              " 5.041666666666667,\n",
              " 4.993666666666667,\n",
              " 5.033666666666667,\n",
              " 5.062,\n",
              " 5.031666666666666,\n",
              " 5.012333333333333,\n",
              " 5.009666666666667,\n",
              " 4.981333333333334,\n",
              " 5.023,\n",
              " 4.983666666666666,\n",
              " 5.015666666666666,\n",
              " 4.987333333333333,\n",
              " 4.976666666666667,\n",
              " 4.919,\n",
              " 5.026,\n",
              " 4.987,\n",
              " 5.0023333333333335,\n",
              " 5.1033333333333335,\n",
              " 5.0473333333333334,\n",
              " 4.994666666666666,\n",
              " 5.0,\n",
              " 4.979666666666667,\n",
              " 4.985333333333333,\n",
              " 4.982,\n",
              " 5.002,\n",
              " 5.028,\n",
              " 5.003666666666667,\n",
              " 5.020333333333333,\n",
              " 5.022333333333333,\n",
              " 5.035333333333333,\n",
              " 4.997,\n",
              " 4.998333333333333,\n",
              " 4.954,\n",
              " 4.961,\n",
              " 5.042333333333334,\n",
              " 5.017,\n",
              " 4.991666666666666,\n",
              " 5.012333333333333,\n",
              " 5.019333333333333,\n",
              " 5.012333333333333,\n",
              " 4.975,\n",
              " 5.023333333333333,\n",
              " 5.006666666666667,\n",
              " 4.9623333333333335,\n",
              " 5.000666666666667,\n",
              " 5.030333333333333,\n",
              " 5.019666666666667,\n",
              " 5.0103333333333335,\n",
              " 5.028,\n",
              " 4.981,\n",
              " 4.995333333333333,\n",
              " 4.939666666666667,\n",
              " 4.999333333333333,\n",
              " 4.966333333333333,\n",
              " 5.016333333333334,\n",
              " 5.000333333333334,\n",
              " 5.033,\n",
              " 4.9736666666666665,\n",
              " 5.035666666666667,\n",
              " 5.008,\n",
              " 5.015,\n",
              " 4.984,\n",
              " 4.986,\n",
              " 5.020333333333333,\n",
              " 5.037,\n",
              " 4.983,\n",
              " 4.993666666666667,\n",
              " 5.014666666666667,\n",
              " 5.011333333333333,\n",
              " 5.007,\n",
              " 5.020666666666667,\n",
              " 4.966,\n",
              " 5.006333333333333,\n",
              " 5.0103333333333335,\n",
              " 5.037,\n",
              " 5.001333333333333,\n",
              " 4.951666666666667,\n",
              " 5.041,\n",
              " 4.979,\n",
              " 5.005333333333334,\n",
              " 5.009666666666667,\n",
              " 4.986,\n",
              " 5.008666666666667,\n",
              " 5.020666666666667,\n",
              " 4.986666666666666,\n",
              " 5.016666666666667,\n",
              " 4.968666666666667,\n",
              " 4.969,\n",
              " 5.003,\n",
              " 4.997,\n",
              " 4.972,\n",
              " 5.0023333333333335,\n",
              " 4.994666666666666,\n",
              " 5.008333333333334,\n",
              " 4.996666666666667,\n",
              " 5.042666666666666,\n",
              " 5.011,\n",
              " 5.031333333333333,\n",
              " 5.013,\n",
              " 4.983666666666666,\n",
              " 5.0343333333333335,\n",
              " 4.992,\n",
              " 5.051666666666667,\n",
              " 5.030333333333333,\n",
              " 5.012333333333333,\n",
              " 4.991666666666666,\n",
              " 5.09,\n",
              " 5.055,\n",
              " 4.976,\n",
              " 5.003,\n",
              " 4.995333333333333,\n",
              " 5.047666666666666,\n",
              " 5.028,\n",
              " 4.978666666666666,\n",
              " 4.982333333333333,\n",
              " 4.998666666666667,\n",
              " 4.996333333333333,\n",
              " 5.001333333333333,\n",
              " 4.998,\n",
              " 4.934666666666667,\n",
              " 5.003333333333333,\n",
              " 4.995,\n",
              " 4.996333333333333,\n",
              " 4.964,\n",
              " 4.9656666666666665,\n",
              " 4.973,\n",
              " 4.951333333333333,\n",
              " 5.009333333333333,\n",
              " 5.001,\n",
              " 5.009,\n",
              " 5.016333333333334,\n",
              " 4.996333333333333,\n",
              " 5.026,\n",
              " 4.933,\n",
              " 4.983333333333333,\n",
              " 5.042666666666666,\n",
              " 4.9863333333333335,\n",
              " 4.942,\n",
              " 5.039,\n",
              " 5.036666666666667,\n",
              " 5.021,\n",
              " 4.994666666666666,\n",
              " 4.971333333333333,\n",
              " 5.037,\n",
              " 5.0056666666666665,\n",
              " 4.984666666666667,\n",
              " 4.994666666666666,\n",
              " 5.015333333333333,\n",
              " 4.988,\n",
              " 5.015333333333333,\n",
              " 5.063666666666666,\n",
              " 4.999666666666666,\n",
              " 4.982333333333333,\n",
              " 4.961333333333333,\n",
              " 4.999,\n",
              " 4.997333333333334,\n",
              " 5.011666666666667,\n",
              " 5.011333333333333,\n",
              " 5.0183333333333335,\n",
              " 5.0056666666666665,\n",
              " 5.007333333333333,\n",
              " 5.017,\n",
              " 5.0103333333333335,\n",
              " 5.007666666666666,\n",
              " 5.030666666666667,\n",
              " 5.019,\n",
              " 4.957666666666666,\n",
              " 5.036333333333333,\n",
              " 4.972333333333333,\n",
              " 5.0263333333333335,\n",
              " 5.064333333333333,\n",
              " 5.035,\n",
              " 5.012666666666667,\n",
              " 5.012,\n",
              " 4.962666666666666,\n",
              " 4.984666666666667,\n",
              " 5.013333333333334,\n",
              " 4.984666666666667,\n",
              " 4.990333333333333,\n",
              " 5.035666666666667,\n",
              " 4.963666666666667,\n",
              " 4.938,\n",
              " 5.003,\n",
              " 5.000333333333334,\n",
              " 4.9366666666666665,\n",
              " 5.018,\n",
              " 4.985666666666667,\n",
              " 4.995666666666667,\n",
              " 5.0103333333333335,\n",
              " 5.004,\n",
              " 4.953333333333333,\n",
              " 5.043,\n",
              " 5.002,\n",
              " 5.022,\n",
              " 4.974666666666667,\n",
              " 5.074666666666666,\n",
              " 5.006,\n",
              " 4.974666666666667,\n",
              " 5.044666666666667,\n",
              " 4.975333333333333,\n",
              " 4.957,\n",
              " 4.961666666666667,\n",
              " 5.003333333333333,\n",
              " 4.9623333333333335,\n",
              " 5.003333333333333,\n",
              " 5.009333333333333,\n",
              " 4.971333333333333,\n",
              " 5.015666666666666,\n",
              " 4.94,\n",
              " 5.011,\n",
              " 5.005333333333334,\n",
              " 4.961,\n",
              " 4.967333333333333,\n",
              " 4.958666666666667,\n",
              " 5.025,\n",
              " 4.952333333333334,\n",
              " 5.011,\n",
              " 4.979,\n",
              " 5.000666666666667,\n",
              " 4.996333333333333,\n",
              " 5.013333333333334,\n",
              " 5.037333333333334,\n",
              " 5.001333333333333,\n",
              " 4.985,\n",
              " 5.012333333333333,\n",
              " 4.985333333333333,\n",
              " 4.972666666666667,\n",
              " 4.971333333333333,\n",
              " 4.973333333333334,\n",
              " 5.001333333333333,\n",
              " 5.0103333333333335,\n",
              " 5.025,\n",
              " 5.036,\n",
              " 5.009666666666667,\n",
              " 5.012333333333333,\n",
              " 4.968666666666667,\n",
              " 4.959666666666666,\n",
              " 4.988666666666667,\n",
              " 4.977666666666667,\n",
              " 4.957333333333334,\n",
              " 5.02,\n",
              " 5.047666666666666,\n",
              " 5.02,\n",
              " 4.980333333333333,\n",
              " 5.016,\n",
              " 5.001,\n",
              " 4.982,\n",
              " 5.015,\n",
              " 5.009666666666667,\n",
              " 5.029,\n",
              " 4.9943333333333335,\n",
              " 5.024333333333334,\n",
              " 4.985,\n",
              " 4.96,\n",
              " 4.963666666666667,\n",
              " 5.043,\n",
              " 5.0456666666666665,\n",
              " 4.993,\n",
              " 5.012,\n",
              " 5.056333333333333,\n",
              " 4.998,\n",
              " 5.046666666666667,\n",
              " 5.047666666666666,\n",
              " 5.042333333333334,\n",
              " 5.008333333333334,\n",
              " 4.995666666666667,\n",
              " 4.967666666666666,\n",
              " 4.974333333333333,\n",
              " 4.975666666666666,\n",
              " 5.067666666666667,\n",
              " 4.994,\n",
              " 4.978666666666666,\n",
              " 5.054,\n",
              " 4.9816666666666665,\n",
              " 4.968666666666667,\n",
              " 5.007333333333333,\n",
              " 5.040666666666667,\n",
              " 5.056333333333333,\n",
              " 5.047666666666666,\n",
              " 4.990666666666667,\n",
              " 5.011666666666667,\n",
              " 5.0263333333333335,\n",
              " 4.949,\n",
              " 5.044666666666667,\n",
              " 4.987,\n",
              " 5.024,\n",
              " 4.984,\n",
              " 5.033,\n",
              " 4.943666666666667,\n",
              " 4.977,\n",
              " 4.983333333333333,\n",
              " 4.961666666666667,\n",
              " 5.010666666666666,\n",
              " 5.037,\n",
              " 4.987,\n",
              " 4.951,\n",
              " 4.964,\n",
              " 5.04,\n",
              " 4.989,\n",
              " 4.993,\n",
              " 5.02,\n",
              " 4.986666666666666,\n",
              " 5.071666666666666,\n",
              " 5.022666666666667,\n",
              " 4.992333333333334,\n",
              " 4.999666666666666,\n",
              " 5.020333333333333,\n",
              " 5.047,\n",
              " 5.004,\n",
              " 4.999666666666666,\n",
              " 4.9126666666666665,\n",
              " 4.985333333333333,\n",
              " 4.974333333333333,\n",
              " 5.008,\n",
              " 5.052333333333333,\n",
              " 4.955333333333333,\n",
              " 5.0343333333333335,\n",
              " 5.0263333333333335,\n",
              " 4.976666666666667,\n",
              " 4.982,\n",
              " 4.984,\n",
              " 5.022333333333333,\n",
              " 5.023666666666666,\n",
              " 5.039333333333333,\n",
              " 4.986,\n",
              " 4.9863333333333335,\n",
              " 4.945333333333333,\n",
              " 5.034666666666666,\n",
              " 4.990333333333333,\n",
              " 4.984,\n",
              " 5.0056666666666665,\n",
              " 4.998,\n",
              " 5.032666666666667,\n",
              " 4.967666666666666,\n",
              " 5.017333333333333,\n",
              " 4.999333333333333,\n",
              " 4.977666666666667,\n",
              " 4.977666666666667,\n",
              " 5.014666666666667,\n",
              " 5.014666666666667,\n",
              " 5.036333333333333,\n",
              " 5.004,\n",
              " 4.947666666666667,\n",
              " 4.972333333333333,\n",
              " 5.016333333333334,\n",
              " 4.978,\n",
              " 4.965,\n",
              " 4.987666666666667,\n",
              " 4.9943333333333335,\n",
              " 4.966666666666667,\n",
              " 5.035333333333333,\n",
              " 5.013,\n",
              " 4.989,\n",
              " 5.007666666666666,\n",
              " 4.998666666666667,\n",
              " 4.986,\n",
              " 4.996666666666667,\n",
              " 4.976]"
            ]
          },
          "metadata": {},
          "execution_count": 45
        }
      ]
    },
    {
      "cell_type": "code",
      "source": [
        "len(mean_of_samples)"
      ],
      "metadata": {
        "colab": {
          "base_uri": "https://localhost:8080/"
        },
        "id": "nImexOvIkJKY",
        "outputId": "1b0122e5-9ea0-4a14-b940-264b53316ef6"
      },
      "execution_count": 46,
      "outputs": [
        {
          "output_type": "execute_result",
          "data": {
            "text/plain": [
              "1000"
            ]
          },
          "metadata": {},
          "execution_count": 46
        }
      ]
    },
    {
      "cell_type": "code",
      "source": [
        "sns.distplot(mean_of_samples, kde = True, color = \"red\")"
      ],
      "metadata": {
        "colab": {
          "base_uri": "https://localhost:8080/",
          "height": 447
        },
        "id": "aENQS8GYkJOA",
        "outputId": "703c0094-9d49-4dfe-ca47-989efdf24807"
      },
      "execution_count": 47,
      "outputs": [
        {
          "output_type": "execute_result",
          "data": {
            "text/plain": [
              "<Axes: ylabel='Density'>"
            ]
          },
          "metadata": {},
          "execution_count": 47
        },
        {
          "output_type": "display_data",
          "data": {
            "text/plain": [
              "<Figure size 640x480 with 1 Axes>"
            ],
            "image/png": "[encoded data removed]"
          },
          "metadata": {}
        }
      ]
    },
    {
      "cell_type": "markdown",
      "source": [
        "#Z-Test"
      ],
      "metadata": {
        "id": "1Bpmyeb8rKtp"
      }
    },
    {
      "cell_type": "code",
      "source": [
        "population = np.random.randn(100)"
      ],
      "metadata": {
        "id": "-oT69jqCkJR9"
      },
      "execution_count": 48,
      "outputs": []
    },
    {
      "cell_type": "code",
      "source": [
        "population"
      ],
      "metadata": {
        "colab": {
          "base_uri": "https://localhost:8080/"
        },
        "id": "HFF9HfKFkJV9",
        "outputId": "2bf64d37-c124-4729-f6ea-d2fb56b06888"
      },
      "execution_count": 49,
      "outputs": [
        {
          "output_type": "execute_result",
          "data": {
            "text/plain": [
              "array([-0.09115428, -0.00782139,  0.31943289, -0.34034731, -0.50174531,\n",
              "        0.57931754, -0.46270728, -0.7768396 ,  0.1255124 , -0.80455695,\n",
              "        1.44672461, -2.31039559,  0.82310713,  1.95247157,  2.21775387,\n",
              "       -0.34969114,  0.20301299,  0.08466861, -0.04497635,  0.61088209,\n",
              "       -0.86825452, -0.30440737,  1.89435795, -0.98275295, -0.71649296,\n",
              "        0.60922833,  0.20453011,  1.35866947, -0.44206564,  1.13243381,\n",
              "       -1.28454739, -0.172949  ,  1.27875356,  1.00204884,  0.96313967,\n",
              "        0.69229983, -1.11886118,  0.06247119,  0.03842249, -0.24211398,\n",
              "        0.76216901, -0.21072421, -0.55926334,  0.78890852, -0.22024124,\n",
              "       -0.57424764,  0.590251  , -0.41800152,  1.0718932 ,  2.10186529,\n",
              "        0.02452589,  1.52461399, -0.61923688,  0.42237839,  1.08055188,\n",
              "        2.02532939,  0.74130444, -1.2339622 , -0.23023791,  0.71780002,\n",
              "        0.39086817,  0.65389773, -1.5943541 ,  0.15115044,  0.27889243,\n",
              "       -0.50049118,  0.49986308,  1.54062679, -0.04047214, -0.22982041,\n",
              "       -2.1216883 , -0.33113783, -0.39486036,  0.13086208, -0.11180159,\n",
              "       -0.57068912, -0.60344645,  1.46712304,  0.4819542 , -0.25288612,\n",
              "        0.44059258,  1.49491628,  1.90516675,  0.43057764,  0.5781257 ,\n",
              "        1.0843142 , -0.24584512,  0.56517227,  0.85988473,  1.56124631,\n",
              "       -0.11206497, -0.20101645, -0.06318477, -2.63648915,  1.23733328,\n",
              "        0.080758  ,  0.06258122,  0.12271778, -2.17498048, -0.8591969 ])"
            ]
          },
          "metadata": {},
          "execution_count": 49
        }
      ]
    },
    {
      "cell_type": "code",
      "source": [
        "sns.distplot(population)"
      ],
      "metadata": {
        "colab": {
          "base_uri": "https://localhost:8080/",
          "height": 447
        },
        "id": "4eNTMXVWkJaF",
        "outputId": "9604a415-ae51-4615-e714-fdd7c659561c"
      },
      "execution_count": 50,
      "outputs": [
        {
          "output_type": "execute_result",
          "data": {
            "text/plain": [
              "<Axes: ylabel='Density'>"
            ]
          },
          "metadata": {},
          "execution_count": 50
        },
        {
          "output_type": "display_data",
          "data": {
            "text/plain": [
              "<Figure size 640x480 with 1 Axes>"
            ],
            "image/png": "[encoded data removed]"
          },
          "metadata": {}
        }
      ]
    },
    {
      "cell_type": "code",
      "source": [
        "np.mean(population), np.std(population)"
      ],
      "metadata": {
        "colab": {
          "base_uri": "https://localhost:8080/"
        },
        "id": "IeyLQIsskJdt",
        "outputId": "040ba299-4e35-4c2b-8f6f-1cc6897cf88e"
      },
      "execution_count": 51,
      "outputs": [
        {
          "output_type": "execute_result",
          "data": {
            "text/plain": [
              "(0.1653643409175591, 0.9586125147432297)"
            ]
          },
          "metadata": {},
          "execution_count": 51
        }
      ]
    },
    {
      "cell_type": "code",
      "source": [
        "# for hypothesis testing\n",
        "# frame the hypothesis\n",
        "# alpha, type of test\n",
        "# test statistics or pvalue approach >> if pvalue <0.5>> we reject the null hypothesis\n",
        "# test critical\n",
        "# conclusion"
      ],
      "metadata": {
        "id": "RhBNHdcWkJhP"
      },
      "execution_count": null,
      "outputs": []
    },
    {
      "cell_type": "code",
      "source": [
        "null_mean = 0.09 # hypothesis\n",
        "# alternate >= 0.09"
      ],
      "metadata": {
        "id": "K-FLDsmXkJlO"
      },
      "execution_count": 52,
      "outputs": []
    },
    {
      "cell_type": "code",
      "source": [
        "from statsmodels.stats.weightstats import ztest\n",
        "zscore, pvalue = ztest(population, value = null_mean, alternative='larger')"
      ],
      "metadata": {
        "id": "sMNxNA6bkJpF"
      },
      "execution_count": 54,
      "outputs": []
    },
    {
      "cell_type": "code",
      "source": [
        "zscore"
      ],
      "metadata": {
        "colab": {
          "base_uri": "https://localhost:8080/"
        },
        "id": "REaDwrbVkJsd",
        "outputId": "ff3452d6-ff75-40e5-bebd-6de110abc1bd"
      },
      "execution_count": 55,
      "outputs": [
        {
          "output_type": "execute_result",
          "data": {
            "text/plain": [
              "0.7822406996102834"
            ]
          },
          "metadata": {},
          "execution_count": 55
        }
      ]
    },
    {
      "cell_type": "code",
      "source": [
        "pvalue"
      ],
      "metadata": {
        "colab": {
          "base_uri": "https://localhost:8080/"
        },
        "id": "b-g7U4d43vOq",
        "outputId": "4fb2b18c-227a-4e93-e445-59d6cc116cf4"
      },
      "execution_count": 56,
      "outputs": [
        {
          "output_type": "execute_result",
          "data": {
            "text/plain": [
              "0.2170365649104185"
            ]
          },
          "metadata": {},
          "execution_count": 56
        }
      ]
    },
    {
      "cell_type": "code",
      "source": [
        "if pvalue <= 0.05:\n",
        "  print('reject the null hypothesis')\n",
        "else:\n",
        "  print('fail to reject the null hypothesis')"
      ],
      "metadata": {
        "colab": {
          "base_uri": "https://localhost:8080/"
        },
        "id": "fIedZTPc3wN1",
        "outputId": "b71c1a3a-e4e3-4f03-c9b2-0f1c2307d4b7"
      },
      "execution_count": 57,
      "outputs": [
        {
          "output_type": "stream",
          "name": "stdout",
          "text": [
            "fail to reject the null hypothesis\n"
          ]
        }
      ]
    },
    {
      "cell_type": "code",
      "source": [
        "# z-critical approach\n",
        "#A school calculated iq scores of 50 students, the average iq  turned out to be 100. the mean of population iq is 90\n",
        "#and the std deviation 16. \\\n",
        "#state whether the claim by school\n",
        "#that IQ increases if student study more than avg of school with 5% of significance level\n",
        "\n",
        "#null hypothesis : mean_iq = 90\n",
        "#Alternate: mean_iq > 90"
      ],
      "metadata": {
        "id": "j-g-0zwN3wRn"
      },
      "execution_count": null,
      "outputs": []
    },
    {
      "cell_type": "code",
      "source": [
        "import scipy.stats as stats #zcritical approach\n",
        "sample_mean = 100\n",
        "population_mean = 90\n",
        "population_std = 16\n",
        "sample_size = 60\n",
        "alpha = 0.05"
      ],
      "metadata": {
        "id": "BLsx9cxE4Fm9"
      },
      "execution_count": 58,
      "outputs": []
    },
    {
      "cell_type": "code",
      "source": [
        "zscore = (sample_mean - population_mean) / (population_std/np.sqrt(50))\n",
        "print(\"The zscore is \", zscore)"
      ],
      "metadata": {
        "colab": {
          "base_uri": "https://localhost:8080/"
        },
        "id": "AVKAhlrN3wVG",
        "outputId": "1f4dc000-1bfc-4a51-c427-7722014d3e4d"
      },
      "execution_count": 59,
      "outputs": [
        {
          "output_type": "stream",
          "name": "stdout",
          "text": [
            "The zscore is  4.419417382415922\n"
          ]
        }
      ]
    },
    {
      "cell_type": "code",
      "source": [
        "# for zcritical scipy.stats\n",
        "# norm >> normal distribution\n",
        "# ppf >> percent point function >> inverse of cumulative distribution function(cdf)\n",
        "zcritical = stats.norm.ppf(1-alpha)"
      ],
      "metadata": {
        "id": "np0A6t073wYd"
      },
      "execution_count": 61,
      "outputs": []
    },
    {
      "cell_type": "code",
      "source": [
        "zcritical"
      ],
      "metadata": {
        "colab": {
          "base_uri": "https://localhost:8080/"
        },
        "id": "hTXXujbM49ss",
        "outputId": "38161949-6e7f-455e-d522-b8688c374335"
      },
      "execution_count": 62,
      "outputs": [
        {
          "output_type": "execute_result",
          "data": {
            "text/plain": [
              "1.6448536269514722"
            ]
          },
          "metadata": {},
          "execution_count": 62
        }
      ]
    },
    {
      "cell_type": "code",
      "source": [
        "if zscore > zcritical:\n",
        "  print(\"Reject the null hypothesis\")\n",
        "else:\n",
        "  print(\"Fail to reject the null hypothesis\")"
      ],
      "metadata": {
        "colab": {
          "base_uri": "https://localhost:8080/"
        },
        "id": "1AhabIOu5C2X",
        "outputId": "cdbea671-ffdc-4bc0-c420-4a1326e05b2c"
      },
      "execution_count": 64,
      "outputs": [
        {
          "output_type": "stream",
          "name": "stdout",
          "text": [
            "Reject the null hypothesis\n"
          ]
        }
      ]
    },
    {
      "cell_type": "code",
      "source": [
        "# using bscipy.stats pvalue approach\n",
        "p_value = 1-stats.norm.cdf(zscore)\n",
        "\n",
        "if p_value <= 0.05:\n",
        "  print(\"Reject the null hypothesis\")\n",
        "else:\n",
        "  print(\"Fail to reject the null hypothesis\")"
      ],
      "metadata": {
        "colab": {
          "base_uri": "https://localhost:8080/"
        },
        "id": "Ir0229pC5C6l",
        "outputId": "d06e8f6a-e284-4fdd-ecf2-8fb267996028"
      },
      "execution_count": 66,
      "outputs": [
        {
          "output_type": "stream",
          "name": "stdout",
          "text": [
            "Reject the null hypothesis\n"
          ]
        }
      ]
    },
    {
      "cell_type": "code",
      "source": [
        "# T test when sample size < 30 or sigma or population is not given\n",
        "# one sample t-test (with respect to one independent sample)\n",
        "# two sample t-test (with respect to two independent sampl)\n",
        "# paired t-test (two sample from the population at different time interval)"
      ],
      "metadata": {
        "id": "uNf5sE_V5qWC"
      },
      "execution_count": 67,
      "outputs": []
    },
    {
      "cell_type": "code",
      "source": [
        "# one sample t-test\n",
        "population = np.random.randint(10, 20, 50)"
      ],
      "metadata": {
        "id": "oAakEqnV5qbZ"
      },
      "execution_count": 68,
      "outputs": []
    },
    {
      "cell_type": "code",
      "source": [
        "population"
      ],
      "metadata": {
        "colab": {
          "base_uri": "https://localhost:8080/"
        },
        "id": "3QSS35bW5qf2",
        "outputId": "e0374420-efe5-4ce2-e5a2-b9719102f557"
      },
      "execution_count": 69,
      "outputs": [
        {
          "output_type": "execute_result",
          "data": {
            "text/plain": [
              "array([13, 17, 10, 13, 12, 15, 12, 11, 18, 15, 17, 10, 13, 16, 14, 19, 15,\n",
              "       15, 11, 11, 14, 10, 12, 12, 16, 19, 11, 16, 16, 18, 16, 14, 18, 10,\n",
              "       18, 11, 18, 10, 13, 15, 18, 11, 12, 12, 13, 14, 15, 14, 11, 18])"
            ]
          },
          "metadata": {},
          "execution_count": 69
        }
      ]
    },
    {
      "cell_type": "code",
      "source": [
        "sample = np.random.choice(population, 20)"
      ],
      "metadata": {
        "id": "fZVEhU445C-n"
      },
      "execution_count": 70,
      "outputs": []
    },
    {
      "cell_type": "code",
      "source": [
        "sample"
      ],
      "metadata": {
        "colab": {
          "base_uri": "https://localhost:8080/"
        },
        "id": "ZAGcTT4R5DCR",
        "outputId": "5e897f92-120c-432e-db81-d20854461342"
      },
      "execution_count": 71,
      "outputs": [
        {
          "output_type": "execute_result",
          "data": {
            "text/plain": [
              "array([13, 12, 12, 16, 16, 19, 11, 12, 13, 11, 11, 11, 12, 19, 16, 13, 14,\n",
              "       19, 14, 11])"
            ]
          },
          "metadata": {},
          "execution_count": 71
        }
      ]
    },
    {
      "cell_type": "code",
      "source": [
        "np.mean(sample)"
      ],
      "metadata": {
        "colab": {
          "base_uri": "https://localhost:8080/"
        },
        "id": "XjZHAH_66PFf",
        "outputId": "7c47fd79-f440-4d85-e43a-89ccaba6177b"
      },
      "execution_count": 72,
      "outputs": [
        {
          "output_type": "execute_result",
          "data": {
            "text/plain": [
              "13.75"
            ]
          },
          "metadata": {},
          "execution_count": 72
        }
      ]
    },
    {
      "cell_type": "code",
      "source": [
        "# for t-test scipy.stats\n",
        "null_value = 25 # the mean of the population\n",
        "stats.ttest_1samp(sample, null_value)"
      ],
      "metadata": {
        "colab": {
          "base_uri": "https://localhost:8080/"
        },
        "id": "zHR1tfTg6PJO",
        "outputId": "8a38a11f-85dd-46bb-e1e4-9be66996aa84"
      },
      "execution_count": 73,
      "outputs": [
        {
          "output_type": "execute_result",
          "data": {
            "text/plain": [
              "TtestResult(statistic=-17.920944927984493, pvalue=2.318898231262709e-13, df=19)"
            ]
          },
          "metadata": {},
          "execution_count": 73
        }
      ]
    },
    {
      "cell_type": "code",
      "source": [
        "p_value = 0.19\n",
        "if p_value <= 0.05:\n",
        "  print(\"Reject the null hypothesis\")\n",
        "else:\n",
        "  print(\"Fail to reject the null hypothesis\")"
      ],
      "metadata": {
        "colab": {
          "base_uri": "https://localhost:8080/"
        },
        "id": "clx7wiN86PNV",
        "outputId": "bd2623b1-8f6e-4926-8189-0ecacbe5ebb6"
      },
      "execution_count": 74,
      "outputs": [
        {
          "output_type": "stream",
          "name": "stdout",
          "text": [
            "Fail to reject the null hypothesis\n"
          ]
        }
      ]
    },
    {
      "cell_type": "code",
      "source": [
        "# two sample t-test\n",
        "virat_kohli_score = np.random.choice(population, 20)\n",
        "virat_kohli_score"
      ],
      "metadata": {
        "colab": {
          "base_uri": "https://localhost:8080/"
        },
        "id": "2cdjmHxE6PSE",
        "outputId": "fa9f803a-2ffd-472c-efaf-b22617557ec9"
      },
      "execution_count": 75,
      "outputs": [
        {
          "output_type": "execute_result",
          "data": {
            "text/plain": [
              "array([17, 13, 11, 12, 18, 15, 17, 12, 18, 12, 11, 18, 11, 13, 13, 15, 11,\n",
              "       18, 10, 10])"
            ]
          },
          "metadata": {},
          "execution_count": 75
        }
      ]
    },
    {
      "cell_type": "code",
      "source": [
        "rohit_sharma_score = [13, 25, 48, 19, 12, 13, 18, 23, 34, 33, 45, 58, 46, 27, 50, 49]"
      ],
      "metadata": {
        "id": "9bM99--O6PWC"
      },
      "execution_count": 76,
      "outputs": []
    },
    {
      "cell_type": "code",
      "source": [
        "np.mean(rohit_sharma_score), np.mean(virat_kohli_score)"
      ],
      "metadata": {
        "colab": {
          "base_uri": "https://localhost:8080/"
        },
        "id": "b0YxMpGg6PZy",
        "outputId": "7b67a6e5-cb85-47bf-d184-8cf33ae66aed"
      },
      "execution_count": 77,
      "outputs": [
        {
          "output_type": "execute_result",
          "data": {
            "text/plain": [
              "(32.0625, 13.75)"
            ]
          },
          "metadata": {},
          "execution_count": 77
        }
      ]
    },
    {
      "cell_type": "code",
      "source": [
        "stats.ttest_ind(virat_kohli_score, rohit_sharma_score)"
      ],
      "metadata": {
        "colab": {
          "base_uri": "https://localhost:8080/"
        },
        "id": "bw0hm71W7CYc",
        "outputId": "e3b309bc-5e93-4e02-cfad-e7cd1c5f220e"
      },
      "execution_count": 78,
      "outputs": [
        {
          "output_type": "execute_result",
          "data": {
            "text/plain": [
              "TtestResult(statistic=-5.217741322533793, pvalue=8.961183613588314e-06, df=34.0)"
            ]
          },
          "metadata": {},
          "execution_count": 78
        }
      ]
    },
    {
      "cell_type": "code",
      "source": [
        "p_value = 0.329\n",
        "if p_value <= 0.05:\n",
        "  print(\"Reject the null hypothesis\")\n",
        "else:\n",
        "  print(\"Fail to reject the null hypothesis\")"
      ],
      "metadata": {
        "colab": {
          "base_uri": "https://localhost:8080/"
        },
        "id": "fD58M_pm7C1t",
        "outputId": "19a79a21-be21-41d8-f93d-677c6f9e35ac"
      },
      "execution_count": 79,
      "outputs": [
        {
          "output_type": "stream",
          "name": "stdout",
          "text": [
            "Fail to reject the null hypothesis\n"
          ]
        }
      ]
    },
    {
      "cell_type": "code",
      "source": [
        "#paired_t test test\n",
        "rohit_score_first_inning = [31, 36, 46, 24, 48, 46, 47, 47, 16, 35, 45, 37, 24, 29, 27, 42, 49, 37, 47, 46]\n",
        "rohit_score_second_inning = [31, 76, 46, 24, 48, 23, 49, 47, 37, 35, 45, 37, 74, 39, 27, 42, 49, 37, 47, 46]"
      ],
      "metadata": {
        "id": "MU-FnewW7C6k"
      },
      "execution_count": 80,
      "outputs": []
    },
    {
      "cell_type": "code",
      "source": [
        "np.mean(rohit_score_first_inning), np.mean(rohit_score_second_inning)"
      ],
      "metadata": {
        "colab": {
          "base_uri": "https://localhost:8080/"
        },
        "id": "lv0y4BDI7C_X",
        "outputId": "4c250762-d0d4-438f-9449-1eba5643f228"
      },
      "execution_count": 81,
      "outputs": [
        {
          "output_type": "execute_result",
          "data": {
            "text/plain": [
              "(37.95, 42.95)"
            ]
          },
          "metadata": {},
          "execution_count": 81
        }
      ]
    },
    {
      "cell_type": "code",
      "source": [
        "stats.ttest_rel(rohit_score_first_inning, rohit_score_second_inning)"
      ],
      "metadata": {
        "colab": {
          "base_uri": "https://localhost:8080/"
        },
        "id": "adVyM-eb7DDf",
        "outputId": "6206b8e7-25e6-45fc-ba73-334703016bec"
      },
      "execution_count": 82,
      "outputs": [
        {
          "output_type": "execute_result",
          "data": {
            "text/plain": [
              "TtestResult(statistic=-1.4256648712805027, pvalue=0.17018806846147658, df=19)"
            ]
          },
          "metadata": {},
          "execution_count": 82
        }
      ]
    },
    {
      "cell_type": "code",
      "source": [
        "p_value = 0.17\n",
        "if p_value <= 0.05:\n",
        "  print(\"Reject the null hypothesis\")\n",
        "else:\n",
        "  print(\"Fail to reject the null hypothesis\")"
      ],
      "metadata": {
        "colab": {
          "base_uri": "https://localhost:8080/"
        },
        "id": "vxJOFCQ17W1H",
        "outputId": "ed8ef16f-a922-4c95-f405-59daeb3d4cd3"
      },
      "execution_count": 83,
      "outputs": [
        {
          "output_type": "stream",
          "name": "stdout",
          "text": [
            "Fail to reject the null hypothesis\n"
          ]
        }
      ]
    },
    {
      "cell_type": "code",
      "source": [],
      "metadata": {
        "id": "IBUVVkY-7aYx"
      },
      "execution_count": null,
      "outputs": []
    }
  ]
}